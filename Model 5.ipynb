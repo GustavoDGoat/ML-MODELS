{
 "cells": [
  {
   "cell_type": "code",
   "execution_count": 39,
   "id": "df5f5864",
   "metadata": {},
   "outputs": [
    {
     "name": "stdout",
     "output_type": "stream",
     "text": [
      "Accuracy: 74.7%\n",
      "Diabetic\n"
     ]
    },
    {
     "name": "stderr",
     "output_type": "stream",
     "text": [
      "C:\\Users\\Grind master\\anaconda3\\Lib\\site-packages\\sklearn\\base.py:464: UserWarning: X does not have valid feature names, but LogisticRegression was fitted with feature names\n",
      "  warnings.warn(\n"
     ]
    }
   ],
   "source": [
    "import pandas as pd\n",
    "from sklearn.linear_model import LogisticRegression\n",
    "from sklearn.model_selection import train_test_split\n",
    "from sklearn.metrics import accuracy_score\n",
    "data=pd.read_csv(r'diabetes.csv')\n",
    "data\n",
    "#data.isnull().sum()\n",
    "data.describe()\n",
    "X=data.drop('Outcome', axis=1)\n",
    "y=data['Outcome']\n",
    "X_train,X_test,y_train,y_test=train_test_split(X,y,random_state=42,test_size=0.2)\n",
    "model=LogisticRegression(max_iter=1000)\n",
    "model.fit(X_train,y_train)\n",
    "predictions=model.predict(X_test)\n",
    "accuracy=accuracy_score(y_test, predictions)\n",
    "print(f\"Accuracy: {accuracy*100:.1f}%\")\n",
    "new_patient = [[\n",
    "    2,       # Pregnancies\n",
    "    150,     # Glucose (high!)\n",
    "    70,      # BloodPressure\n",
    "    25,      # SkinThickness\n",
    "    100,     # Insulin\n",
    "    33,      # BMI (overweight)\n",
    "    0.5,     # DiabetesPedigreeFunction\n",
    "    45       # Age\n",
    "]]\n",
    "\n",
    "prediction = model.predict(new_patient)\n",
    "print(\"Diabetic\" if prediction[0] == 1 else \"Not Diabetic\")"
   ]
  }
 ],
 "metadata": {
  "kernelspec": {
   "display_name": "Python 3 (ipykernel)",
   "language": "python",
   "name": "python3"
  },
  "language_info": {
   "codemirror_mode": {
    "name": "ipython",
    "version": 3
   },
   "file_extension": ".py",
   "mimetype": "text/x-python",
   "name": "python",
   "nbconvert_exporter": "python",
   "pygments_lexer": "ipython3",
   "version": "3.11.5"
  }
 },
 "nbformat": 4,
 "nbformat_minor": 5
}
